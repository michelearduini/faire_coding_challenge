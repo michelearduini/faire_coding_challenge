{
 "cells": [
  {
   "cell_type": "code",
   "execution_count": 1,
   "metadata": {},
   "outputs": [],
   "source": [
    "import pandas as pd\n",
    "from datetime import timedelta\n",
    "\n",
    "# Load the datasets\n",
    "transactions = pd.read_csv('tests/fixtures/account_booked_balance_mean_3mo_transactions.csv')\n",
    "accounts = pd.read_csv('tests/fixtures/account_booked_balance_mean_3mo_accounts.csv')\n",
    "reference_dates = pd.read_csv('tests/fixtures/account_booked_balance_mean_3mo_reference_timestamps.csv')\n",
    "\n",
    "transactions['value_timestamp'] = pd.to_datetime(transactions['value_timestamp'])\n",
    "accounts['creation_timestamp'] = pd.to_datetime(accounts['creation_timestamp'])\n",
    "reference_dates['reference_timestamp'] = pd.to_datetime(reference_dates['reference_timestamp'])\n",
    "\n",
    "        "
   ]
  },
  {
   "cell_type": "code",
   "execution_count": 2,
   "metadata": {},
   "outputs": [],
   "source": [
    "daily_balances = {}\n",
    "\n",
    "for _, ref_row in reference_dates.iterrows():\n",
    "    account_id = ref_row['account_id']\n",
    "    ref_ts = ref_row['reference_timestamp']\n",
    "    creation_ts = accounts.loc[accounts['account_id'] == account_id, 'creation_timestamp'].iloc[0]\n",
    "    balance_at_creation = accounts.loc[accounts['account_id'] == account_id, 'balance_at_creation'].iloc[0]\n",
    "    \n",
    "    start_ts = ref_ts - timedelta(days=90)\n",
    "    date_range = pd.date_range(start_ts, ref_ts, closed='left')\n",
    "    account_transactions = transactions[transactions['account_id'] == account_id]\n",
    "    \n",
    "    daily_balance = []\n",
    "    \n",
    "    for date in date_range:\n",
    "        if date < creation_ts:\n",
    "            daily_balance.append(0)\n",
    "        else:\n",
    "            balance = balance_at_creation\n",
    "            relevant_transactions = account_transactions[account_transactions['value_timestamp'] <= date]\n",
    "            balance += relevant_transactions['amount'].sum()\n",
    "            daily_balance.append(balance)\n",
    "    \n",
    "    daily_balances[account_id] = daily_balance"
   ]
  },
  {
   "cell_type": "code",
   "execution_count": 3,
   "metadata": {},
   "outputs": [],
   "source": [
    "average_daily_balances = {}\n",
    "\n",
    "for account_id, daily_balance in daily_balances.items():\n",
    "    average_balance = sum(daily_balance) / len(daily_balance)\n",
    "    average_daily_balances[account_id] = average_balance"
   ]
  },
  {
   "cell_type": "code",
   "execution_count": 4,
   "metadata": {},
   "outputs": [
    {
     "data": {
      "text/plain": [
       "{3673936931: 123.44444444444444,\n",
       " 3673936942: 0.0,\n",
       " 3673936953: 53.111111111111114,\n",
       " 3673936964: 146.66666666666666,\n",
       " 3693136739: 1339.4555555555555,\n",
       " 3609236739: 1461.8444444444444,\n",
       " 3609236750: 86.66666666666667,\n",
       " 3609236761: 2113.3333333333335,\n",
       " 3609236772: 26.666666666666668}"
      ]
     },
     "execution_count": 4,
     "metadata": {},
     "output_type": "execute_result"
    }
   ],
   "source": [
    "average_daily_balances"
   ]
  },
  {
   "cell_type": "code",
   "execution_count": 92,
   "metadata": {},
   "outputs": [
    {
     "name": "stdout",
     "output_type": "stream",
     "text": [
      "{3673936931: [110, 110, 110, 110, 110, 110, 110, 110, 110, 110, 110, 110, 110, 110, 110, 120, 120, 120, 120, 120, 120, 120, 120, 120, 120, 120, 120, 120, 120, 120, 120, 120, 120, 120, 120, 120, 120, 120, 120, 120, 120, 120, 120, 120, 120, 120, 110, 110, 110, 110, 110, 110, 110, 110, 110, 110, 110, 110, 110, 110, 110, 110, 110, 110, 110, 110, 110, 110, 110, 110, 110, 110, 110, 110, 110, 110, 110, 110, 110, 110, 110, 110, 110, 110, 110, 110, 110, 110, 110, 110], 3673936942: [190, 190, 190, 190, 190, 190, 190, 190, 190, 190, 190, 190, 190, 190, 190, 200, 200, 200, 200, 200, 200, 200, 200, 200, 200, 200, 200, 200, 200, 200, 200, 200, 200, 200, 200, 200, 200, 200, 200, 200, 200, 200, 200, 200, 200, 200, 190, 190, 190, 190, 190, 190, 190, 190, 190, 190, 190, 190, 190, 190, 190, 190, 190, 190, 190, 190, 190, 190, 190, 190, 190, 190, 190, 190, 190, 190, 190, 190, 190, 190, 190, 190, 190, 190, 190, 190, 190, 190, 190, 190], 3673936953: [70, 70, 70, 70, 70, 70, 70, 70, 70, 70, 70, 70, 70, 70, 70, 80, 80, 80, 80, 80, 80, 80, 80, 80, 80, 80, 80, 80, 80, 80, 80, 80, 80, 80, 80, 80, 80, 80, 80, 80, 80, 80, 80, 80, 80, 80, 70, 70, 70, 70, 70, 70, 70, 70, 70, 70, 70, 70, 70, 70, 70, 70, 70, 70, 70, 70, 70, 70, 70, 70, 70, 70, 70, 70, 70, 70, 70, 70, 70, 70, 70, 70, 70, 70, 70, 70, 70, 70, 70, 70], 3673936964: [300, 300, 300, 300, 300, 300, 300, 300, 300, 300, 300, 300, 300, 300, 300, 310, 310, 310, 310, 310, 310, 310, 310, 310, 310, 310, 310, 310, 310, 310, 310, 310, 310, 310, 310, 310, 310, 310, 310, 310, 310, 310, 310, 310, 310, 310, 300, 300, 300, 300, 300, 300, 300, 300, 300, 300, 300, 300, 300, 300, 300, 300, 300, 300, 300, 300, 300, 300, 300, 300, 300, 300, 300, 300, 300, 300, 300, 300, 300, 300, 300, 300, 300, 300, 300, 300, 300, 300, 300, 300], 3693136739: [-848, -848, -853, -853, -853, -853, -853, -853, -853, -853, -853, -856, -856, -856, -856, -857, 132, 132, 132, 132, 132, 132, 132, 132, 132, 132, 132, 132, 132, 132, 120, 117, 117, 117, 117, 117, 117, 117, 117, 117, 117, 117, 117, 117, 1117, 1117, 1117, 1117, 1116, 1116, 1106, 1106, 1106, 1101, 1101, 1100, 1100, 1100, 1100, 1100, 1100, 1094, 1087, 1082, 1077, 1077, 1077, 1077, 1076, 1075, 1080, 1080, 1072, 1072, 1072, 1072, 1060, 1060, 1810, 1810, 1810, 1810, 2060, 2060, 2060, 2060, 2060, 2060, 2060, 2060], 3609236739: [-861, -861, -861, 138, 140, 139, 135, 135, 135, 135, 135, 135, 132, 132, 132, 132, 131, 131, 128, 120, 120, 120, 120, 120, 120, 120, 120, 120, 120, 120, 120, 120, 119, 119, 1116, 1116, 1116, 1116, 1116, 1116, 1116, 1116, 1116, 1116, 1116, 1116, 1116, 1115, 1115, 1115, 1115, 1113, 1113, 1105, 1105, 1105, 1105, 1105, 1104, 1104, 1104, 1104, 1099, 1099, 1099, 1099, 1094, 1094, 1094, 1094, 1093, 1098, 1098, 1091, 1091, 1090, 1090, 1090, 1090, 1840, 1840, 2090, 2090, 2090, 2090, 2090, 2090, 2090, 2090, 2090], 3609236750: [130, 130, 130, 130, 130, 130, 130, 130, 130, 130, 130, 130, 130, 130, 130, 130, 130, 130, 130, 130, 130, 130, 130, 130, 130, 130, 130, 130, 130, 130, 130, 130, 130, 130, 130, 130, 130, 130, 130, 130, 130, 130, 130, 130, 130, 130, 130, 130, 130, 130, 130, 130, 130, 130, 130, 130, 130, 130, 130, 130, 130, 130, 130, 130, 130, 130, 130, 130, 130, 130, 130, 130, 130, 130, 130, 130, 130, 130, 130, 130, 130, 130, 130, 130, 130, 130, 130, 130, 130, 130], 3609236761: [-2830, 170, 170, 170, 170, 170, 170, 170, 170, 170, 170, 170, 170, 170, 170, 170, 170, 170, 170, 170, 170, 170, 170, 170, 170, 170, 170, 170, 170, 170, 170, 170, 170, 170, 170, 170, 170, 170, 170, 170, 170, 170, 170, 170, 170, 170, 170, 170, 170, 170, 170, 170, 170, 170, 170, 170, 170, 170, 170, 170, 170, 170, 170, 170, 170, 170, 170, 170, 170, 170, 170, 170, 170, 170, 170, 170, 170, 170, 170, 170, 170, 170, 170, 170, 170, 170, 170, 170, 170, 170], 3609236772: [30, 30, 30, 30, 30, 30, 30, 30, 30, 30, 30, 30, 30, 30, 30, 30, 30, 30, 30, 30, 30, 30, 30, 30, 30, 30, 30, 30, 30, 30, 20, 20, 20, 20, 20, 20, 20, 20, 20, 20, 20, 20, 20, 20, 20, 20, 20, 20, 20, 20, 20, 20, 20, 20, 20, 20, 20, 20, 20, 20, 20, 20, 20, 20, 20, 20, 20, 20, 20, 20, 20, 20, 20, 20, 20, 20, 20, 20, 20, 20, 20, 20, 20, 20, 20, 20, 20, 20, 20, 20]}\n"
     ]
    }
   ],
   "source": [
    "import pandas as pd\n",
    "from datetime import timedelta\n",
    "\n",
    "daily_balances = {}\n",
    "\n",
    "for _, ref_row in reference_dates.iterrows():\n",
    "    account_id = ref_row['account_id']\n",
    "    ref_ts = ref_row['reference_timestamp']\n",
    "    creation_ts = accounts.loc[accounts['account_id'] == account_id, 'creation_timestamp'].iloc[0]\n",
    "    balance_at_creation = accounts.loc[accounts['account_id'] == account_id, 'balance_at_creation'].iloc[0]\n",
    "    \n",
    "    start_ts = ref_ts - timedelta(days=90)\n",
    "    date_range = pd.date_range(start_ts, ref_ts, closed='left')\n",
    "    account_transactions = transactions[transactions['account_id'] == account_id]\n",
    "    \n",
    "    first_transaction_date = account_transactions['value_timestamp'].min() - timedelta(days=1)\n",
    "    initial_amount = balance_at_creation - account_transactions[account_transactions['value_timestamp'] < creation_ts]['amount'].sum()\n",
    "    \n",
    "    daily_balance = []\n",
    "    \n",
    "    for date in date_range:\n",
    "        if date < first_transaction_date:\n",
    "            daily_balance.append(initial_amount)\n",
    "        else:\n",
    "            balance = initial_amount\n",
    "            relevant_transactions = account_transactions[account_transactions['value_timestamp'] <= date]\n",
    "            balance += relevant_transactions['amount'].sum()\n",
    "            daily_balance.append(balance)\n",
    "    \n",
    "    daily_balances[account_id] = daily_balance\n",
    "\n",
    "print(daily_balances)\n",
    "\n"
   ]
  },
  {
   "cell_type": "code",
   "execution_count": 93,
   "metadata": {},
   "outputs": [],
   "source": [
    "average_daily_balances = {}\n",
    "\n",
    "for account_id, daily_balance in daily_balances.items():\n",
    "    average_balance = sum(daily_balance) / len(daily_balance)\n",
    "    average_daily_balances[account_id] = average_balance"
   ]
  },
  {
   "cell_type": "code",
   "execution_count": 94,
   "metadata": {},
   "outputs": [
    {
     "data": {
      "text/plain": [
       "{3673936931: 113.44444444444444,\n",
       " 3673936942: 193.44444444444446,\n",
       " 3673936953: 73.44444444444444,\n",
       " 3673936964: 303.44444444444446,\n",
       " 3693136739: 562.9444444444445,\n",
       " 3609236739: 817.6444444444444,\n",
       " 3609236750: 130.0,\n",
       " 3609236761: 136.66666666666666,\n",
       " 3609236772: 23.333333333333332}"
      ]
     },
     "execution_count": 94,
     "metadata": {},
     "output_type": "execute_result"
    }
   ],
   "source": [
    "average_daily_balances"
   ]
  },
  {
   "cell_type": "code",
   "execution_count": 5,
   "metadata": {},
   "outputs": [],
   "source": [
    "import pandas"
   ]
  },
  {
   "cell_type": "code",
   "execution_count": 6,
   "metadata": {},
   "outputs": [],
   "source": [
    "transactions['value_timestamp'] = pandas.to_datetime(transactions['value_timestamp'])\n",
    "accounts['creation_timestamp'] = pandas.to_datetime(accounts['creation_timestamp'])\n",
    "reference_dates['reference_timestamp_datetime'] = pandas.to_datetime(reference_dates['reference_timestamp'])\n",
    "\n",
    "daily_balances = {}\n",
    "\n",
    "for _, ref_row in reference_dates.iterrows():\n",
    "    account_id = ref_row['account_id']\n",
    "    ref_ts = ref_row['reference_timestamp']\n",
    "    creation_ts = accounts.loc[accounts['account_id'] == account_id, 'creation_timestamp'].iloc[0]\n",
    "    balance_at_creation = accounts.loc[accounts['account_id'] == account_id, 'balance_at_creation'].iloc[0]\n",
    "    \n",
    "    start_ts = ref_ts - timedelta(days=90)\n",
    "    date_range = pandas.date_range(start_ts, ref_ts, closed='left')\n",
    "    account_transactions = transactions[transactions['account_id'] == account_id]\n",
    "    \n",
    "    first_transaction_date = account_transactions['value_timestamp'].min() - timedelta(days=1)\n",
    "    initial_amount = balance_at_creation - account_transactions[account_transactions['value_timestamp'] < creation_ts]['amount'].sum()\n",
    "    \n",
    "    daily_balance = []\n",
    "    \n",
    "    for date in date_range:\n",
    "        if date < first_transaction_date:\n",
    "            daily_balance.append(initial_amount)\n",
    "        else:\n",
    "            balance = initial_amount\n",
    "            relevant_transactions = account_transactions[account_transactions['value_timestamp'] <= date]\n",
    "            balance += relevant_transactions['amount'].sum()\n",
    "            daily_balance.append(balance)\n",
    "    \n",
    "    daily_balances[account_id] = daily_balance\n",
    "\n",
    "\n",
    "average_daily_balances = {}\n",
    "\n",
    "for account_id, daily_balance in daily_balances.items():\n",
    "    average_balance = sum(daily_balance) / len(daily_balance)\n",
    "    average_daily_balances[account_id] = average_balance\n",
    "\n",
    "dates = reference_dates['reference_timestamp']\n",
    "account_ids = reference_dates['account_id']\n",
    "index =  pandas.MultiIndex.from_arrays([dates, account_ids], names=[\"reference_timestamp\", \"account_id\"])\n",
    "values = [average_daily_balances.get(id, None) for id in account_ids]\n",
    "\n",
    "s = pandas.Series(values, index=index)"
   ]
  },
  {
   "cell_type": "code",
   "execution_count": 7,
   "metadata": {},
   "outputs": [
    {
     "data": {
      "text/plain": [
       "reference_timestamp      account_id\n",
       "2017-03-31 23:59:59.999  3673936931    113.444444\n",
       "                         3673936942    193.444444\n",
       "                         3673936953     73.444444\n",
       "                         3673936964    303.444444\n",
       "2017-04-30 23:59:59.999  3693136739    562.944444\n",
       "                         3609236739    817.644444\n",
       "                         3609236750    130.000000\n",
       "                         3609236761    136.666667\n",
       "                         3609236772     23.333333\n",
       "dtype: float64"
      ]
     },
     "execution_count": 7,
     "metadata": {},
     "output_type": "execute_result"
    }
   ],
   "source": [
    "s"
   ]
  },
  {
   "cell_type": "code",
   "execution_count": null,
   "metadata": {},
   "outputs": [],
   "source": []
  }
 ],
 "metadata": {
  "kernelspec": {
   "display_name": "Python 3",
   "language": "python",
   "name": "python3"
  },
  "language_info": {
   "codemirror_mode": {
    "name": "ipython",
    "version": 3
   },
   "file_extension": ".py",
   "mimetype": "text/x-python",
   "name": "python",
   "nbconvert_exporter": "python",
   "pygments_lexer": "ipython3",
   "version": "3.10.0"
  },
  "orig_nbformat": 4,
  "vscode": {
   "interpreter": {
    "hash": "aee8b7b246df8f9039afb4144a1f6fd8d2ca17a180786b69acc140d282b71a49"
   }
  }
 },
 "nbformat": 4,
 "nbformat_minor": 2
}
